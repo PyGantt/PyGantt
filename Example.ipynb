{
 "cells": [
  {
   "cell_type": "markdown",
   "metadata": {},
   "source": [
    "<h1>Table of Contents<span class=\"tocSkip\"></span></h1>\n",
    "<div class=\"toc\"><ul class=\"toc-item\"><li><span><a href=\"#Simple-concert-plan\" data-toc-modified-id=\"Simple-concert-plan-1\"><span class=\"toc-item-num\">1&nbsp;&nbsp;</span>Simple concert plan</a></span></li></ul></div>"
   ]
  },
  {
   "cell_type": "code",
   "execution_count": null,
   "metadata": {},
   "outputs": [],
   "source": [
    "import matplotlib.pyplot as plt\n",
    "%matplotlib inline\n",
    "%config InlineBackend.figure_format = 'retina'"
   ]
  },
  {
   "cell_type": "markdown",
   "metadata": {},
   "source": [
    "### Simple concert plan\n",
    "We have four main event that need to happen and each of those m ight have sub-tasks"
   ]
  },
  {
   "cell_type": "code",
   "execution_count": null,
   "metadata": {},
   "outputs": [],
   "source": [
    "from pygantt.datasets import load_concert\n",
    "from pygantt.pygantt import gantt\n",
    "df = load_concert()\n",
    "\n",
    "gantt(task=df.Task, start=df.Start, finish=df.Finish, \n",
    "      task_type=df.Type, color={\"main\":\"steelblue\", \"sub\":\"lightgreen\"})\n",
    "\n",
    "plt.title('Planning a concert', {'fontsize': 14, 'fontweight' : 'heavy'});"
   ]
  },
  {
   "cell_type": "code",
   "execution_count": null,
   "metadata": {},
   "outputs": [],
   "source": [
    "df"
   ]
  },
  {
   "cell_type": "code",
   "execution_count": null,
   "metadata": {},
   "outputs": [],
   "source": [
    "# df[\"Diff\"] = date2num(df.Finish) - date2num(df.Start)\n",
    "# df[\"Start\"] = date2num(df.Start)\n",
    "\n",
    "# color = {\"main\":\"steelblue\", \"sub\":\"lightgreen\"}\n",
    "# fig,ax = plt.subplots(figsize=(6,3))\n",
    "\n",
    "# labels = []\n",
    "# for i, task in enumerate(df.groupby(\"Task\")):\n",
    "#     labels.append(task[0])\n",
    "#     for r in task[1].groupby(\"Type\"):\n",
    "#         data = r[1][[\"Start\", \"Diff\"]]\n",
    "#         ax.broken_barh(data.values, (i-0.4,0.8), color=color[r[0]] )\n",
    "\n",
    "# \n",
    "# ax.format_xdata = mdates.DateFormatter('%Y-%m-%d')\n",
    "\n",
    "# ax.xaxis.set_major_formatter(mdates.DateFormatter('%Y-%m-%d'))\n",
    "# ax.set_yticks(range(len(labels)))\n",
    "# ax.set_yticklabels(labels) \n",
    "# fig.autofmt_xdate()\n",
    "# plt.show()"
   ]
  },
  {
   "cell_type": "code",
   "execution_count": null,
   "metadata": {},
   "outputs": [],
   "source": [
    "task = df.Asset\n",
    "start = df.Start\n",
    "finish = df.Finish\n",
    "task_type = df.Position\n",
    "order = None\n",
    "color = {\"long\":\"steelblue\", \"short\":\"lightgreen\"}\n",
    "by = df.Asset\n",
    "\n",
    "import pandas as pd\n",
    "import numpy as np\n",
    "import matplotlib.pyplot as plt\n",
    "import matplotlib.dates as mdates\n",
    "\n",
    "\n",
    "USES_DATES = False    \n",
    "if np.issubdtype(start.dtype, np.datetime64):\n",
    "    start = mdates.date2num(start)\n",
    "    USES_DATES = True\n",
    "if np.issubdtype(finish.dtype, np.datetime64):\n",
    "    finish = mdates.date2num(finish)\n",
    "\n",
    "delta = finish-start\n",
    "\n",
    "fig,ax = plt.subplots(figsize=(9,5))\n",
    "\n",
    "labels = []\n",
    "for i, task in enumerate(task):\n",
    "    if color:\n",
    "        c = color[task_type[i]] \n",
    "    else:\n",
    "        c = None\n",
    "    ax.broken_barh([(start[i], delta[i])], (i-0.4,0.8), color=c)\n",
    "\n",
    "# Set yticks\n",
    "ax.set_yticks(range(len(labels)))\n",
    "ax.set_yticklabels(labels) \n",
    "\n",
    "# Set xticks formatting\n",
    "# TODO: use matplotlib.dates.AutoDateFormatter\n",
    "if USES_DATES:\n",
    "    ax.xaxis.set_major_formatter(mdates.DateFormatter('%Y-%m-%d'))\n",
    "    fig.autofmt_xdate()\n",
    "\n",
    "ax.invert_yaxis()\n"
   ]
  },
  {
   "cell_type": "code",
   "execution_count": null,
   "metadata": {},
   "outputs": [],
   "source": [
    "from pygantt.datasets import load_equities, load_equities_ptf\n",
    "from pygantt.pygantt import gantt\n",
    "\n",
    "df = load_equities()\n",
    "ptf = load_equities_ptf()"
   ]
  },
  {
   "cell_type": "code",
   "execution_count": null,
   "metadata": {},
   "outputs": [],
   "source": [
    "ptf.plot(x='Date',y='PTF')"
   ]
  },
  {
   "cell_type": "code",
   "execution_count": null,
   "metadata": {},
   "outputs": [],
   "source": [
    "gantt(task=df.Asset, start=df.Start, finish=df.Finish, by=df.Asset,\n",
    "      task_type=df.Position, color={\"long\":\"steelblue\", \"short\":\"lightgreen\"})"
   ]
  }
 ],
 "metadata": {
  "hide_input": true,
  "language_info": {
   "name": "python",
   "pygments_lexer": "ipython3"
  }
 },
 "nbformat": 4,
 "nbformat_minor": 2
}
