{
 "cells": [
  {
   "cell_type": "markdown",
   "metadata": {},
   "source": [
    "# Gantt and waterfall charts"
   ]
  },
  {
   "cell_type": "markdown",
   "metadata": {},
   "source": [
    "<h1>Table of Contents<span class=\"tocSkip\"></span></h1>\n",
    "<div class=\"toc\"><ul class=\"toc-item\"><li><span><a href=\"#Simple-concert-plan\" data-toc-modified-id=\"Simple-concert-plan-1\"><span class=\"toc-item-num\">1&nbsp;&nbsp;</span>Simple concert plan</a></span></li><li><span><a href=\"#Positions-of-a-trading-strategy\" data-toc-modified-id=\"Positions-of-a-trading-strategy-2\"><span class=\"toc-item-num\">2&nbsp;&nbsp;</span>Positions of a trading strategy</a></span></li><li><span><a href=\"#Earnings-and-expenses-of-a-freelancer\" data-toc-modified-id=\"Earnings-and-expenses-of-a-freelancer-3\"><span class=\"toc-item-num\">3&nbsp;&nbsp;</span>Earnings and expenses of a freelancer</a></span></li><li><span><a href=\"#Utilities---manipulating-financial-signals-into-start/end-data\" data-toc-modified-id=\"Utilities---manipulating-financial-signals-into-start/end-data-4\"><span class=\"toc-item-num\">4&nbsp;&nbsp;</span>Utilities - manipulating financial signals into start/end data</a></span></li></ul></div>"
   ]
  },
  {
   "cell_type": "code",
   "execution_count": null,
   "metadata": {},
   "outputs": [],
   "source": [
    "from pygantt.pygantt import gantt\n",
    "\n",
    "import numpy as np\n",
    "import pandas as pd\n",
    "import matplotlib.pyplot as plt\n",
    "%matplotlib inline\n",
    "%config InlineBackend.figure_format = 'retina'"
   ]
  },
  {
   "cell_type": "markdown",
   "metadata": {},
   "source": [
    "### Simple concert plan\n",
    "We have four main event that need to happen and each of those m ight have sub-tasks"
   ]
  },
  {
   "cell_type": "code",
   "execution_count": null,
   "metadata": {},
   "outputs": [],
   "source": [
    "from pygantt.datasets import load_concert\n",
    "df = load_concert()\n",
    "\n",
    "fig = plt.figure(figsize=(9,5))\n",
    "\n",
    "gantt(task=df.Task, start=df.Start, finish=df.Finish, \n",
    "      task_type=df.Type, color={\"main\":\"steelblue\", \"sub\":\"lightgreen\"})\n",
    "\n",
    "plt.title('Planning a concert', {'fontsize': 14, 'fontweight' : 'heavy'});"
   ]
  },
  {
   "cell_type": "markdown",
   "metadata": {},
   "source": [
    "### Positions of a trading strategy\n",
    "Plot the long/short positions of your strategy alongside the index of your portfolio"
   ]
  },
  {
   "cell_type": "code",
   "execution_count": null,
   "metadata": {},
   "outputs": [],
   "source": [
    "from pygantt.datasets import load_equities_ptf\n",
    "from pygantt.datasets import load_equities\n",
    "df = load_equities()\n",
    "ptf = load_equities_ptf()\n",
    "df"
   ]
  },
  {
   "cell_type": "code",
   "execution_count": null,
   "metadata": {},
   "outputs": [],
   "source": [
    "fig, axes = plt.subplots( 2,1, figsize=(9,5), gridspec_kw = {'height_ratios':[3, 1]})\n",
    "\n",
    "ptf = load_equities_ptf()\n",
    "\n",
    "axes[0].plot(ptf['Date'], ptf['PTF'])\n",
    "axes[0].set_title('Investment strategy and position taken', {'fontsize': 14, 'fontweight' : 'heavy'})\n",
    "\n",
    "plt.sca(axes[1])\n",
    "\n",
    "gantt(task=df.Asset, start=df.Start, finish=df.Finish, \n",
    "      task_type=df.Position, color={\"long\":\"lightgreen\",\"short\":\"lightsalmon\"})"
   ]
  },
  {
   "cell_type": "markdown",
   "metadata": {},
   "source": [
    "### Earnings and expenses of a freelancer\n",
    "Show the ups and downs a freelancer has to go through in a month. Watch that tax!"
   ]
  },
  {
   "cell_type": "code",
   "execution_count": null,
   "metadata": {},
   "outputs": [],
   "source": [
    "from pygantt.datasets import load_freelancer\n",
    "df = load_freelancer()\n",
    "\n",
    "# Some basic manipulation from amount to start/end points\n",
    "df['Start'] = np.insert(df.Amount.cumsum().values[:-1], 0,0)\n",
    "df['Finish'] = df.Start + df.Amount\n",
    "df['Type'] = np.where(df.Amount <0,'cost','earn')\n",
    "df.at[1,'Type']= 'enemy'\n",
    "df"
   ]
  },
  {
   "cell_type": "code",
   "execution_count": null,
   "metadata": {},
   "outputs": [],
   "source": [
    "fig = plt.figure(figsize=(9,5))\n",
    "\n",
    "gantt(task=df.Description, start=df.Start, finish=df.Finish, \n",
    "      task_type=df.Type, color={\"cost\":\"steelblue\", \"earn\":\"lightgreen\",\"enemy\":\"firebrick\"})\n",
    "\n",
    "plt.title('Earnings and expenses of a freelancer', {'fontsize': 14, 'fontweight' : 'heavy'});"
   ]
  },
  {
   "cell_type": "markdown",
   "metadata": {},
   "source": [
    "### Utilities - manipulating financial signals into start/end data\n",
    "From a panel of long (+1) and short (-1) positions, or non-invested (0), generated start-end dates data."
   ]
  },
  {
   "cell_type": "code",
   "execution_count": null,
   "metadata": {},
   "outputs": [],
   "source": [
    "from datetime import datetime\n",
    "from pygantt import util\n",
    "\n",
    "msft = np.array([0, 0, 1, 1, 1, 0, 0, 1, 1, 1, 0])\n",
    "fb = np.array([0, 0, -1, -1, -1, 0, 0, 1, 1, 1, 0])\n",
    "appl = np.array([1, 0, 0, -1, -1, 0, 0, 0, 1, 1, 0])\n",
    "goog = np.array([1, 0, 0, -1, -1, 0, 0, 0, 1, 1, 0])\n",
    "dates = pd.date_range(datetime(2017,1,1), periods=len(msft))\n",
    "example_to_encode = pd.DataFrame({\n",
    "   \"MSFT\": msft,\n",
    "   \"APPL\": appl,\n",
    "   \"FB\": fb,\n",
    "   \"GOOG\": goog}, index=dates)\n",
    "\n",
    "example_to_encode"
   ]
  },
  {
   "cell_type": "markdown",
   "metadata": {},
   "source": [
    "Applying some run-length encoding:"
   ]
  },
  {
   "cell_type": "code",
   "execution_count": null,
   "metadata": {},
   "outputs": [],
   "source": [
    "df = util.transform_df_to_start_end(example_to_encode)\n",
    "df"
   ]
  }
 ],
 "metadata": {
  "hide_input": true,
  "language_info": {
   "name": "python",
   "pygments_lexer": "ipython3"
  }
 },
 "nbformat": 4,
 "nbformat_minor": 2
}
